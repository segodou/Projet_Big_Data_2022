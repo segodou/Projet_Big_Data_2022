{
 "cells": [
  {
   "cell_type": "markdown",
   "metadata": {},
   "source": [
    "# Projet réalisée par Ulrich G. Segodo\n",
    "## Binôme avec qui, j'ai discuté de certaines questions : Boris Gomez"
   ]
  },
  {
   "cell_type": "markdown",
   "metadata": {},
   "source": [
    "# 1. Expliquer et définir chacune des 7 colonnes du fichier des objets trouvés."
   ]
  },
  {
   "cell_type": "markdown",
   "metadata": {},
   "source": [
    "* Colonne 1 : C'est la colonne qui contient toutes les dates et heures auxquelles ont été trouvé un objet dans un gare donné\n",
    "* Colonne 2 : Elle contient toutes les dates et heures auxquelles ont été restitués un objet trouvé\n",
    "* Colonne 3 : Elle contient le nom de toutes les gares gérée par la SNCF\n",
    "* Colonne 4 : Elle le Code UIC, code numérique attribué par l'organisation internationale des chemins de fer qui est propre à chaque gare\n",
    "* Colonne 5 : Elle décrit la nature des objets trouvé\n",
    "* Colonne 6 : Elle décrit les types d'objet trouvé\n",
    "* Colonne 7 : Elle donne une information sur le type d'enregistrement effectué"
   ]
  },
  {
   "cell_type": "code",
   "execution_count": 1,
   "metadata": {},
   "outputs": [
    {
     "name": "stdout",
     "output_type": "stream",
     "text": [
      "Requirement already satisfied: geopy in c:\\users\\segod\\anaconda3\\lib\\site-packages (2.2.0)\n",
      "Requirement already satisfied: geographiclib<2,>=1.49 in c:\\users\\segod\\anaconda3\\lib\\site-packages (from geopy) (1.52)\n",
      "Requirement already satisfied: folium in c:\\users\\segod\\anaconda3\\lib\\site-packages (0.12.1.post1)\n",
      "Requirement already satisfied: jinja2>=2.9 in c:\\users\\segod\\anaconda3\\lib\\site-packages (from folium) (2.11.3)\n",
      "Requirement already satisfied: numpy in c:\\users\\segod\\anaconda3\\lib\\site-packages (from folium) (1.20.3)\n",
      "Requirement already satisfied: requests in c:\\users\\segod\\anaconda3\\lib\\site-packages (from folium) (2.26.0)\n",
      "Requirement already satisfied: branca>=0.3.0 in c:\\users\\segod\\anaconda3\\lib\\site-packages (from folium) (0.4.2)\n",
      "Requirement already satisfied: MarkupSafe>=0.23 in c:\\users\\segod\\anaconda3\\lib\\site-packages (from jinja2>=2.9->folium) (1.1.1)\n",
      "Requirement already satisfied: idna<4,>=2.5 in c:\\users\\segod\\anaconda3\\lib\\site-packages (from requests->folium) (3.2)\n",
      "Requirement already satisfied: urllib3<1.27,>=1.21.1 in c:\\users\\segod\\anaconda3\\lib\\site-packages (from requests->folium) (1.26.7)\n",
      "Requirement already satisfied: charset-normalizer~=2.0.0 in c:\\users\\segod\\anaconda3\\lib\\site-packages (from requests->folium) (2.0.4)\n",
      "Requirement already satisfied: certifi>=2017.4.17 in c:\\users\\segod\\anaconda3\\lib\\site-packages (from requests->folium) (2021.10.8)\n"
     ]
    }
   ],
   "source": [
    "! pip install geopy\n",
    "! pip install folium"
   ]
  },
  {
   "cell_type": "code",
   "execution_count": 2,
   "metadata": {},
   "outputs": [],
   "source": [
    "import pandas as pd\n",
    "import datetime\n",
    "import calendar\n",
    "import matplotlib.pyplot as plt\n",
    "from geopy.geocoders import Nominatim \n"
   ]
  },
  {
   "cell_type": "markdown",
   "metadata": {},
   "source": [
    "# 2. Chargement du jeu de données en pandas.\n",
    "* Remarque\n",
    "Au moment du chargement, on a l'erreur ci dessous qui est une erreur de delimiteur c'est à dire que dans le fichier csv le sépérateur utilisé  n'est pas une virgule ',' mais plutôt un point virgule ';' lorsque ouvre le fichier avec un lecteur csv et on vérifie"
   ]
  },
  {
   "cell_type": "code",
   "execution_count": 3,
   "metadata": {},
   "outputs": [
    {
     "ename": "ParserError",
     "evalue": "Error tokenizing data. C error: Expected 1 fields in line 3, saw 4\n",
     "output_type": "error",
     "traceback": [
      "\u001b[1;31m---------------------------------------------------------------------------\u001b[0m",
      "\u001b[1;31mParserError\u001b[0m                               Traceback (most recent call last)",
      "\u001b[1;32m~\\AppData\\Local\\Temp/ipykernel_23292/2006949350.py\u001b[0m in \u001b[0;36m<module>\u001b[1;34m\u001b[0m\n\u001b[1;32m----> 1\u001b[1;33m \u001b[0mtrouves\u001b[0m \u001b[1;33m=\u001b[0m \u001b[0mpd\u001b[0m\u001b[1;33m.\u001b[0m\u001b[0mread_csv\u001b[0m\u001b[1;33m(\u001b[0m\u001b[1;34m'objets-trouves-restitution.csv'\u001b[0m\u001b[1;33m)\u001b[0m\u001b[1;33m\u001b[0m\u001b[1;33m\u001b[0m\u001b[0m\n\u001b[0m",
      "\u001b[1;32m~\\anaconda3\\lib\\site-packages\\pandas\\util\\_decorators.py\u001b[0m in \u001b[0;36mwrapper\u001b[1;34m(*args, **kwargs)\u001b[0m\n\u001b[0;32m    309\u001b[0m                     \u001b[0mstacklevel\u001b[0m\u001b[1;33m=\u001b[0m\u001b[0mstacklevel\u001b[0m\u001b[1;33m,\u001b[0m\u001b[1;33m\u001b[0m\u001b[1;33m\u001b[0m\u001b[0m\n\u001b[0;32m    310\u001b[0m                 )\n\u001b[1;32m--> 311\u001b[1;33m             \u001b[1;32mreturn\u001b[0m \u001b[0mfunc\u001b[0m\u001b[1;33m(\u001b[0m\u001b[1;33m*\u001b[0m\u001b[0margs\u001b[0m\u001b[1;33m,\u001b[0m \u001b[1;33m**\u001b[0m\u001b[0mkwargs\u001b[0m\u001b[1;33m)\u001b[0m\u001b[1;33m\u001b[0m\u001b[1;33m\u001b[0m\u001b[0m\n\u001b[0m\u001b[0;32m    312\u001b[0m \u001b[1;33m\u001b[0m\u001b[0m\n\u001b[0;32m    313\u001b[0m         \u001b[1;32mreturn\u001b[0m \u001b[0mwrapper\u001b[0m\u001b[1;33m\u001b[0m\u001b[1;33m\u001b[0m\u001b[0m\n",
      "\u001b[1;32m~\\anaconda3\\lib\\site-packages\\pandas\\io\\parsers\\readers.py\u001b[0m in \u001b[0;36mread_csv\u001b[1;34m(filepath_or_buffer, sep, delimiter, header, names, index_col, usecols, squeeze, prefix, mangle_dupe_cols, dtype, engine, converters, true_values, false_values, skipinitialspace, skiprows, skipfooter, nrows, na_values, keep_default_na, na_filter, verbose, skip_blank_lines, parse_dates, infer_datetime_format, keep_date_col, date_parser, dayfirst, cache_dates, iterator, chunksize, compression, thousands, decimal, lineterminator, quotechar, quoting, doublequote, escapechar, comment, encoding, encoding_errors, dialect, error_bad_lines, warn_bad_lines, on_bad_lines, delim_whitespace, low_memory, memory_map, float_precision, storage_options)\u001b[0m\n\u001b[0;32m    584\u001b[0m     \u001b[0mkwds\u001b[0m\u001b[1;33m.\u001b[0m\u001b[0mupdate\u001b[0m\u001b[1;33m(\u001b[0m\u001b[0mkwds_defaults\u001b[0m\u001b[1;33m)\u001b[0m\u001b[1;33m\u001b[0m\u001b[1;33m\u001b[0m\u001b[0m\n\u001b[0;32m    585\u001b[0m \u001b[1;33m\u001b[0m\u001b[0m\n\u001b[1;32m--> 586\u001b[1;33m     \u001b[1;32mreturn\u001b[0m \u001b[0m_read\u001b[0m\u001b[1;33m(\u001b[0m\u001b[0mfilepath_or_buffer\u001b[0m\u001b[1;33m,\u001b[0m \u001b[0mkwds\u001b[0m\u001b[1;33m)\u001b[0m\u001b[1;33m\u001b[0m\u001b[1;33m\u001b[0m\u001b[0m\n\u001b[0m\u001b[0;32m    587\u001b[0m \u001b[1;33m\u001b[0m\u001b[0m\n\u001b[0;32m    588\u001b[0m \u001b[1;33m\u001b[0m\u001b[0m\n",
      "\u001b[1;32m~\\anaconda3\\lib\\site-packages\\pandas\\io\\parsers\\readers.py\u001b[0m in \u001b[0;36m_read\u001b[1;34m(filepath_or_buffer, kwds)\u001b[0m\n\u001b[0;32m    486\u001b[0m \u001b[1;33m\u001b[0m\u001b[0m\n\u001b[0;32m    487\u001b[0m     \u001b[1;32mwith\u001b[0m \u001b[0mparser\u001b[0m\u001b[1;33m:\u001b[0m\u001b[1;33m\u001b[0m\u001b[1;33m\u001b[0m\u001b[0m\n\u001b[1;32m--> 488\u001b[1;33m         \u001b[1;32mreturn\u001b[0m \u001b[0mparser\u001b[0m\u001b[1;33m.\u001b[0m\u001b[0mread\u001b[0m\u001b[1;33m(\u001b[0m\u001b[0mnrows\u001b[0m\u001b[1;33m)\u001b[0m\u001b[1;33m\u001b[0m\u001b[1;33m\u001b[0m\u001b[0m\n\u001b[0m\u001b[0;32m    489\u001b[0m \u001b[1;33m\u001b[0m\u001b[0m\n\u001b[0;32m    490\u001b[0m \u001b[1;33m\u001b[0m\u001b[0m\n",
      "\u001b[1;32m~\\anaconda3\\lib\\site-packages\\pandas\\io\\parsers\\readers.py\u001b[0m in \u001b[0;36mread\u001b[1;34m(self, nrows)\u001b[0m\n\u001b[0;32m   1045\u001b[0m     \u001b[1;32mdef\u001b[0m \u001b[0mread\u001b[0m\u001b[1;33m(\u001b[0m\u001b[0mself\u001b[0m\u001b[1;33m,\u001b[0m \u001b[0mnrows\u001b[0m\u001b[1;33m=\u001b[0m\u001b[1;32mNone\u001b[0m\u001b[1;33m)\u001b[0m\u001b[1;33m:\u001b[0m\u001b[1;33m\u001b[0m\u001b[1;33m\u001b[0m\u001b[0m\n\u001b[0;32m   1046\u001b[0m         \u001b[0mnrows\u001b[0m \u001b[1;33m=\u001b[0m \u001b[0mvalidate_integer\u001b[0m\u001b[1;33m(\u001b[0m\u001b[1;34m\"nrows\"\u001b[0m\u001b[1;33m,\u001b[0m \u001b[0mnrows\u001b[0m\u001b[1;33m)\u001b[0m\u001b[1;33m\u001b[0m\u001b[1;33m\u001b[0m\u001b[0m\n\u001b[1;32m-> 1047\u001b[1;33m         \u001b[0mindex\u001b[0m\u001b[1;33m,\u001b[0m \u001b[0mcolumns\u001b[0m\u001b[1;33m,\u001b[0m \u001b[0mcol_dict\u001b[0m \u001b[1;33m=\u001b[0m \u001b[0mself\u001b[0m\u001b[1;33m.\u001b[0m\u001b[0m_engine\u001b[0m\u001b[1;33m.\u001b[0m\u001b[0mread\u001b[0m\u001b[1;33m(\u001b[0m\u001b[0mnrows\u001b[0m\u001b[1;33m)\u001b[0m\u001b[1;33m\u001b[0m\u001b[1;33m\u001b[0m\u001b[0m\n\u001b[0m\u001b[0;32m   1048\u001b[0m \u001b[1;33m\u001b[0m\u001b[0m\n\u001b[0;32m   1049\u001b[0m         \u001b[1;32mif\u001b[0m \u001b[0mindex\u001b[0m \u001b[1;32mis\u001b[0m \u001b[1;32mNone\u001b[0m\u001b[1;33m:\u001b[0m\u001b[1;33m\u001b[0m\u001b[1;33m\u001b[0m\u001b[0m\n",
      "\u001b[1;32m~\\anaconda3\\lib\\site-packages\\pandas\\io\\parsers\\c_parser_wrapper.py\u001b[0m in \u001b[0;36mread\u001b[1;34m(self, nrows)\u001b[0m\n\u001b[0;32m    221\u001b[0m         \u001b[1;32mtry\u001b[0m\u001b[1;33m:\u001b[0m\u001b[1;33m\u001b[0m\u001b[1;33m\u001b[0m\u001b[0m\n\u001b[0;32m    222\u001b[0m             \u001b[1;32mif\u001b[0m \u001b[0mself\u001b[0m\u001b[1;33m.\u001b[0m\u001b[0mlow_memory\u001b[0m\u001b[1;33m:\u001b[0m\u001b[1;33m\u001b[0m\u001b[1;33m\u001b[0m\u001b[0m\n\u001b[1;32m--> 223\u001b[1;33m                 \u001b[0mchunks\u001b[0m \u001b[1;33m=\u001b[0m \u001b[0mself\u001b[0m\u001b[1;33m.\u001b[0m\u001b[0m_reader\u001b[0m\u001b[1;33m.\u001b[0m\u001b[0mread_low_memory\u001b[0m\u001b[1;33m(\u001b[0m\u001b[0mnrows\u001b[0m\u001b[1;33m)\u001b[0m\u001b[1;33m\u001b[0m\u001b[1;33m\u001b[0m\u001b[0m\n\u001b[0m\u001b[0;32m    224\u001b[0m                 \u001b[1;31m# destructive to chunks\u001b[0m\u001b[1;33m\u001b[0m\u001b[1;33m\u001b[0m\u001b[0m\n\u001b[0;32m    225\u001b[0m                 \u001b[0mdata\u001b[0m \u001b[1;33m=\u001b[0m \u001b[0m_concatenate_chunks\u001b[0m\u001b[1;33m(\u001b[0m\u001b[0mchunks\u001b[0m\u001b[1;33m)\u001b[0m\u001b[1;33m\u001b[0m\u001b[1;33m\u001b[0m\u001b[0m\n",
      "\u001b[1;32m~\\anaconda3\\lib\\site-packages\\pandas\\_libs\\parsers.pyx\u001b[0m in \u001b[0;36mpandas._libs.parsers.TextReader.read_low_memory\u001b[1;34m()\u001b[0m\n",
      "\u001b[1;32m~\\anaconda3\\lib\\site-packages\\pandas\\_libs\\parsers.pyx\u001b[0m in \u001b[0;36mpandas._libs.parsers.TextReader._read_rows\u001b[1;34m()\u001b[0m\n",
      "\u001b[1;32m~\\anaconda3\\lib\\site-packages\\pandas\\_libs\\parsers.pyx\u001b[0m in \u001b[0;36mpandas._libs.parsers.TextReader._tokenize_rows\u001b[1;34m()\u001b[0m\n",
      "\u001b[1;32m~\\anaconda3\\lib\\site-packages\\pandas\\_libs\\parsers.pyx\u001b[0m in \u001b[0;36mpandas._libs.parsers.raise_parser_error\u001b[1;34m()\u001b[0m\n",
      "\u001b[1;31mParserError\u001b[0m: Error tokenizing data. C error: Expected 1 fields in line 3, saw 4\n"
     ]
    }
   ],
   "source": [
    "trouves = pd.read_csv('objets-trouves-restitution.csv')"
   ]
  },
  {
   "cell_type": "markdown",
   "metadata": {},
   "source": [
    "* Pour pallier à ce problème, nous allons préciser lors du chargement en pandas le délimiteur"
   ]
  },
  {
   "cell_type": "code",
   "execution_count": 4,
   "metadata": {},
   "outputs": [
    {
     "data": {
      "text/html": [
       "<div>\n",
       "<style scoped>\n",
       "    .dataframe tbody tr th:only-of-type {\n",
       "        vertical-align: middle;\n",
       "    }\n",
       "\n",
       "    .dataframe tbody tr th {\n",
       "        vertical-align: top;\n",
       "    }\n",
       "\n",
       "    .dataframe thead th {\n",
       "        text-align: right;\n",
       "    }\n",
       "</style>\n",
       "<table border=\"1\" class=\"dataframe\">\n",
       "  <thead>\n",
       "    <tr style=\"text-align: right;\">\n",
       "      <th></th>\n",
       "      <th>Date</th>\n",
       "      <th>Date et heure de restitution</th>\n",
       "      <th>Gare</th>\n",
       "      <th>Code UIC</th>\n",
       "      <th>Nature d'objets</th>\n",
       "      <th>Type d'objets</th>\n",
       "      <th>Type d'enregistrement</th>\n",
       "    </tr>\n",
       "  </thead>\n",
       "  <tbody>\n",
       "    <tr>\n",
       "      <th>0</th>\n",
       "      <td>2020-09-17T14:04:04+02:00</td>\n",
       "      <td>2020-09-26T18:13:03+02:00</td>\n",
       "      <td>Bordeaux Saint-Jean</td>\n",
       "      <td>87581009.0</td>\n",
       "      <td>Autres divers</td>\n",
       "      <td>Divers</td>\n",
       "      <td>Objet trouvé</td>\n",
       "    </tr>\n",
       "    <tr>\n",
       "      <th>1</th>\n",
       "      <td>2020-09-17T14:34:40+02:00</td>\n",
       "      <td>2020-11-06T10:09:05+01:00</td>\n",
       "      <td>Rennes</td>\n",
       "      <td>87471003.0</td>\n",
       "      <td>Porte-monnaie, portefeuille</td>\n",
       "      <td>Porte-monnaie / portefeuille, argent, titres</td>\n",
       "      <td>Objet trouvé</td>\n",
       "    </tr>\n",
       "  </tbody>\n",
       "</table>\n",
       "</div>"
      ],
      "text/plain": [
       "                        Date Date et heure de restitution  \\\n",
       "0  2020-09-17T14:04:04+02:00    2020-09-26T18:13:03+02:00   \n",
       "1  2020-09-17T14:34:40+02:00    2020-11-06T10:09:05+01:00   \n",
       "\n",
       "                  Gare    Code UIC              Nature d'objets  \\\n",
       "0  Bordeaux Saint-Jean  87581009.0                Autres divers   \n",
       "1               Rennes  87471003.0  Porte-monnaie, portefeuille   \n",
       "\n",
       "                                  Type d'objets Type d'enregistrement  \n",
       "0                                        Divers          Objet trouvé  \n",
       "1  Porte-monnaie / portefeuille, argent, titres          Objet trouvé  "
      ]
     },
     "execution_count": 4,
     "metadata": {},
     "output_type": "execute_result"
    }
   ],
   "source": [
    "trouves = pd.read_csv('objets-trouves-restitution.csv', sep=';')\n",
    "trouves.head(2)"
   ]
  },
  {
   "cell_type": "markdown",
   "metadata": {},
   "source": [
    "# 3. Décrire le jeu de données"
   ]
  },
  {
   "cell_type": "code",
   "execution_count": 5,
   "metadata": {},
   "outputs": [
    {
     "name": "stdout",
     "output_type": "stream",
     "text": [
      "<class 'pandas.core.frame.DataFrame'>\n",
      "RangeIndex: 685082 entries, 0 to 685081\n",
      "Data columns (total 7 columns):\n",
      " #   Column                        Non-Null Count   Dtype  \n",
      "---  ------                        --------------   -----  \n",
      " 0   Date                          685082 non-null  object \n",
      " 1   Date et heure de restitution  233819 non-null  object \n",
      " 2   Gare                          684791 non-null  object \n",
      " 3   Code UIC                      684791 non-null  float64\n",
      " 4   Nature d'objets               685082 non-null  object \n",
      " 5   Type d'objets                 685082 non-null  object \n",
      " 6   Type d'enregistrement         685082 non-null  object \n",
      "dtypes: float64(1), object(6)\n",
      "memory usage: 36.6+ MB\n"
     ]
    }
   ],
   "source": [
    "trouves.info()"
   ]
  },
  {
   "cell_type": "markdown",
   "metadata": {},
   "source": [
    "# 4. Ce jeu de données contient deux colonnes de dates. Convertir ces colonnes en format de date plus utilisable pour la suite. C’est-à-dire un format où il est plus simple de récupérer l’année, le mois ou le jour par exemple"
   ]
  },
  {
   "cell_type": "code",
   "execution_count": 6,
   "metadata": {},
   "outputs": [],
   "source": [
    "df_trouves = trouves.copy()"
   ]
  },
  {
   "cell_type": "code",
   "execution_count": 7,
   "metadata": {},
   "outputs": [],
   "source": [
    "# première colonne de date et on le convertir en format date\n",
    "df_trouves[\"Date\"] = pd.to_datetime(df_trouves[\"Date\"], utc=True, errors='coerce')"
   ]
  },
  {
   "cell_type": "code",
   "execution_count": 8,
   "metadata": {},
   "outputs": [],
   "source": [
    "# On récupère juste la date en yyyy-mm-dd\n",
    "## Pour récupérer les heures, je met time()\n",
    "df_trouves[\"Date\"] = df_trouves[\"Date\"].apply(lambda x: x.date())"
   ]
  },
  {
   "cell_type": "code",
   "execution_count": 9,
   "metadata": {},
   "outputs": [],
   "source": [
    "# Deuxième colonne de date\n",
    "df_trouves[\"Date et heure de restitution\"]  = pd.to_datetime(df_trouves[\"Date et heure de restitution\"], utc=True, errors='coerce')"
   ]
  },
  {
   "cell_type": "code",
   "execution_count": 10,
   "metadata": {},
   "outputs": [],
   "source": [
    "df_trouves[\"Date et heure de restitution\"] = df_trouves[\"Date et heure de restitution\"].apply(lambda x: x.date())"
   ]
  },
  {
   "cell_type": "markdown",
   "metadata": {},
   "source": [
    "# 5. La date du début du jeu de données"
   ]
  },
  {
   "cell_type": "code",
   "execution_count": 11,
   "metadata": {},
   "outputs": [
    {
     "data": {
      "text/plain": [
       "110637    2013-05-24\n",
       "Name: Date, dtype: object"
      ]
     },
     "execution_count": 11,
     "metadata": {},
     "output_type": "execute_result"
    }
   ],
   "source": [
    "df_trouves[\"Date\"].sort_values().head(1)"
   ]
  },
  {
   "cell_type": "markdown",
   "metadata": {},
   "source": [
    "# 6.a Année, mois, jour de la semaine avec plus d'objet trouvés et déclarés perdus avec graphiques"
   ]
  },
  {
   "cell_type": "code",
   "execution_count": 12,
   "metadata": {},
   "outputs": [],
   "source": [
    "# Chargeons la base des objets déclarés perdus\n",
    "perdus = pd.read_csv('objets-trouves-gares.csv', sep=\";\")\n",
    "df_perdus = perdus.copy()"
   ]
  },
  {
   "cell_type": "code",
   "execution_count": 13,
   "metadata": {},
   "outputs": [],
   "source": [
    "# On met la date en format utilisable\n",
    "df_perdus[\"Date\"] = pd.to_datetime(df_perdus[\"Date\"], utc=True, errors = 'coerce')"
   ]
  },
  {
   "cell_type": "code",
   "execution_count": 14,
   "metadata": {},
   "outputs": [],
   "source": [
    "df_perdus[\"Date\"] = df_perdus[\"Date\"].apply(lambda x: x.date())"
   ]
  },
  {
   "cell_type": "markdown",
   "metadata": {},
   "source": [
    "# Année avec plus d'objet trouvés et déclarés perdus"
   ]
  },
  {
   "cell_type": "code",
   "execution_count": 15,
   "metadata": {},
   "outputs": [],
   "source": [
    "# On récupère juste l'année de la colonne date\n",
    "df_trouves[\"Year\"] = (pd.to_datetime(df_trouves[\"Date\"])).dt.year\n",
    "df_perdus[\"Year\"] = (pd.to_datetime(df_perdus[\"Date\"])).dt.year"
   ]
  },
  {
   "cell_type": "code",
   "execution_count": 16,
   "metadata": {},
   "outputs": [],
   "source": [
    "# On crée un dataframe en associant à chaque année le nombre d'objet trouvé\n",
    "df1 = pd.DataFrame(df_trouves[\"Year\"].value_counts()).reset_index()\n",
    "df1.columns = [\"Année\", \"Trouvés\"]"
   ]
  },
  {
   "cell_type": "code",
   "execution_count": 17,
   "metadata": {},
   "outputs": [],
   "source": [
    "# On crée un dataframe en associant à chaque année le nombre d'objet déclarés perdus\n",
    "df2 = pd.DataFrame(df_perdus[\"Year\"].value_counts()).reset_index()\n",
    "df2.columns = [\"Année\", \"Déclarés_perdus\"]"
   ]
  },
  {
   "cell_type": "code",
   "execution_count": 18,
   "metadata": {},
   "outputs": [],
   "source": [
    "# La jointure entre des deux bases, nous donne un dataframe, associant à chaque année, \n",
    "# le nombre d'objet trouvé et déclarés perdus  \n",
    "merged_df = (df1.merge(df2, left_on='Année', right_on=\"Année\")).sort_values(\"Année\")"
   ]
  },
  {
   "cell_type": "code",
   "execution_count": 19,
   "metadata": {},
   "outputs": [
    {
     "data": {
      "text/plain": [
       "<AxesSubplot:xlabel='Année'>"
      ]
     },
     "execution_count": 19,
     "metadata": {},
     "output_type": "execute_result"
    },
    {
     "data": {
      "image/png": "[encoded data removed]",
      "text/plain": [
       "<Figure size 864x432 with 1 Axes>"
      ]
     },
     "metadata": {
      "needs_background": "light"
     },
     "output_type": "display_data"
    }
   ],
   "source": [
    "merged_df.plot(x=\"Année\", kind = \"bar\", figsize=(12, 6))"
   ]
  },
  {
   "cell_type": "markdown",
   "metadata": {},
   "source": [
    "* Mois avec plus d'objet trouvés et déclarés perdus"
   ]
  },
  {
   "cell_type": "code",
   "execution_count": 20,
   "metadata": {},
   "outputs": [],
   "source": [
    "# On récupère juste le mois\n",
    "df_trouves[\"Month\"] = (pd.to_datetime(df_trouves[\"Date\"])).dt.month\n",
    "df_perdus[\"Month\"] = (pd.to_datetime(df_perdus[\"Date\"])).dt.month"
   ]
  },
  {
   "cell_type": "code",
   "execution_count": 21,
   "metadata": {},
   "outputs": [],
   "source": [
    "# On transforme la valeur numérique des mois en lettre\n",
    "#df_trouves[\"Month\"] = [calendar.month_name[m] for m in df_trouves[\"Month\"]]\n",
    "#df_perdus[\"Month\"] = [calendar.month_name[m] for m in df_perdus[\"Month\"]]\n",
    "df_trouves[\"Month\"] = df_trouves[\"Month\"].apply(lambda x : calendar.month_name[x])\n",
    "df_perdus[\"Month\"] = df_perdus[\"Month\"].apply(lambda x : calendar.month_name[x])"
   ]
  },
  {
   "cell_type": "code",
   "execution_count": 22,
   "metadata": {},
   "outputs": [],
   "source": [
    "# Crétion de deux dataframe pour la jointure\n",
    "df1 = pd.DataFrame(df_trouves[\"Month\"].value_counts()).reset_index()\n",
    "df1.columns = [\"Mois\", \"Trouvés\"]\n",
    "df2 = pd.DataFrame(df_perdus[\"Month\"].value_counts()).reset_index()\n",
    "df2.columns = [\"Mois\", \"Déclarés_perdus\"]"
   ]
  },
  {
   "cell_type": "code",
   "execution_count": 23,
   "metadata": {},
   "outputs": [
    {
     "data": {
      "text/plain": [
       "<AxesSubplot:xlabel='Mois'>"
      ]
     },
     "execution_count": 23,
     "metadata": {},
     "output_type": "execute_result"
    },
    {
     "data": {
      "image/png": "[encoded data removed]",
      "text/plain": [
       "<Figure size 864x432 with 1 Axes>"
      ]
     },
     "metadata": {
      "needs_background": "light"
     },
     "output_type": "display_data"
    }
   ],
   "source": [
    "# Jointure\n",
    "merged_df = (df1.merge(df2, left_on='Mois', right_on=\"Mois\")).sort_values(\"Mois\")\n",
    "\n",
    "# On crée un vecteur de tri afin d'ordonner la colonne month\n",
    "sort_order = [\"January\", \"February\", \"March\", \"April\", \"May\", \"June\", \"July\", \"August\", \"September\",\n",
    "              \"October\", \"November\", \"December\"]\n",
    "\n",
    "# On change l'index du dataframe afin de faire le tri en fonction du nom des mois\n",
    "merged_df.index = pd.CategoricalIndex(merged_df[\"Mois\"], categories=sort_order, ordered=True)\n",
    "\n",
    "# On fait le tri et ensuite on supprime les index créer pour avoir des valuers numeriques\n",
    "merged_df = merged_df.sort_index().reset_index(drop=True)\n",
    "\n",
    "# Graphique\n",
    "merged_df.plot(x=\"Mois\", kind = \"bar\", figsize=(12, 6))"
   ]
  },
  {
   "cell_type": "markdown",
   "metadata": {},
   "source": [
    "* Le jour avec plus d'objet trouvés et déclarés perdus"
   ]
  },
  {
   "cell_type": "code",
   "execution_count": 24,
   "metadata": {},
   "outputs": [],
   "source": [
    "# On récupère le jour de la date et on le convertir en lettre\n",
    "df_trouves[\"Day\"] = pd.to_datetime(df_trouves[\"Date\"], format=\"%Y/%m/%d\").apply(lambda x : x.day_name())"
   ]
  },
  {
   "cell_type": "code",
   "execution_count": 25,
   "metadata": {},
   "outputs": [],
   "source": [
    "df_perdus[\"Day\"] = pd.to_datetime(df_perdus[\"Date\"], format=\"%Y/%m/%d\").apply(lambda x : x.day_name())"
   ]
  },
  {
   "cell_type": "code",
   "execution_count": 26,
   "metadata": {},
   "outputs": [],
   "source": [
    "# Création de 2 dataframes pour la jointure\n",
    "df1 = pd.DataFrame(df_trouves[\"Day\"].value_counts()).reset_index()\n",
    "df1.columns = [\"Day\", \"Trouvés\"]\n",
    "df2 = pd.DataFrame(df_perdus[\"Day\"].value_counts()).reset_index()\n",
    "df2.columns = [\"Day\", \"Déclarés_perdus\"]"
   ]
  },
  {
   "cell_type": "code",
   "execution_count": 27,
   "metadata": {},
   "outputs": [
    {
     "data": {
      "text/plain": [
       "<AxesSubplot:xlabel='Day'>"
      ]
     },
     "execution_count": 27,
     "metadata": {},
     "output_type": "execute_result"
    },
    {
     "data": {
      "image/png": "[encoded data removed]",
      "text/plain": [
       "<Figure size 864x432 with 1 Axes>"
      ]
     },
     "metadata": {
      "needs_background": "light"
     },
     "output_type": "display_data"
    }
   ],
   "source": [
    "# Jointure\n",
    "merged_df = (df1.merge(df2, left_on='Day', right_on=\"Day\"))\n",
    "\n",
    "# On crée un vecteur de tri afin d'ordonner la colonne day\n",
    "sort_order = [\"Monday\", \"Tuesday\", \"Wednesday\", \"Thursday\", \"Friday\", \"Saturday\", \"Sunday\"]\n",
    "\n",
    "# On change l'index du dataframe afin de faire le tri en fonction du nom des jours\n",
    "merged_df.index = pd.CategoricalIndex(merged_df[\"Day\"], categories=sort_order, ordered=True)\n",
    "\n",
    "# On fait le tri et ensuite on supprime les index créer pour avoir des valuers numeriques\n",
    "merged_df = merged_df.sort_index().reset_index(drop=True)\n",
    "merged_df.plot(x=\"Day\", kind = \"bar\", figsize=(12, 6))"
   ]
  },
  {
   "cell_type": "markdown",
   "metadata": {},
   "source": [
    "# 6.b. Tracer trois courbes affichant l’évolution du nombres d’objets déclarés perdus, trouvés et restitué depuis le début du jeu de donnée"
   ]
  },
  {
   "cell_type": "code",
   "execution_count": 28,
   "metadata": {},
   "outputs": [],
   "source": [
    "# On crée un dataframe dans lequel on compte le nombre d'objet trouvé à partir de la colonne date\n",
    "df1 = pd.DataFrame(pd.to_datetime(df_trouves[\"Date\"]).dt.year).value_counts().reset_index()\n",
    "df1.columns = [\"Year\", \"Trouvés\"]\n",
    "\n",
    "# On crée un dataframe dans lequel on compte le nombre d'objet trouvé et restituer à partir de \n",
    "# la colonne date et heure de restitution\n",
    "df2 = pd.DataFrame(pd.to_datetime(df_trouves[\"Date et heure de restitution\"]).dt.year).value_counts().reset_index()\n",
    "df2.columns = [\"Year\", \"Restitués\"]\n",
    "\n",
    "# On crée un dataframe dans lequel on compte le nombre d'objet déclarés perdus à partir de \n",
    "# la colonne date et base objet déclarés perdus\n",
    "df3 = pd.DataFrame(pd.to_datetime(df_perdus[\"Date\"]).dt.year).value_counts().reset_index()\n",
    "df3.columns = [\"Year\", \"Déclarés perdus\"]"
   ]
  },
  {
   "cell_type": "code",
   "execution_count": 29,
   "metadata": {},
   "outputs": [
    {
     "data": {
      "text/plain": [
       "<AxesSubplot:xlabel='Year'>"
      ]
     },
     "execution_count": 29,
     "metadata": {},
     "output_type": "execute_result"
    },
    {
     "data": {
      "image/png": "[encoded data removed]",
      "text/plain": [
       "<Figure size 864x432 with 1 Axes>"
      ]
     },
     "metadata": {
      "needs_background": "light"
     },
     "output_type": "display_data"
    }
   ],
   "source": [
    "# Jointure et Graphique\n",
    "merged_df = df1.merge(df2, left_on=\"Year\", right_on=\"Year\")\n",
    "merged_df = merged_df.merge(df3, left_on=\"Year\", right_on=\"Year\").sort_values(\"Year\")\n",
    "merged_df.plot(x=\"Year\", kind=\"line\", figsize=(12, 6))"
   ]
  },
  {
   "cell_type": "markdown",
   "metadata": {},
   "source": [
    "# 7. Trouver les 3 gares où il y a le plus d’objets restitués en pourcentage des objets trouvés\n",
    "* Pour répondre à cette question, il faut connaitre le nombre d'objet trouvé par gare ainsi que le nombre d'objet restitutué par gare. Ensuite faire le rapport et afficher les 3 gares où, le rapport restitué/trouvé en pourcentage est plus élévé. Or le nombre d'objet trouvés dépend de la colonne Date et le nombre d'objet restitué dépend de la colonne Date et heure de restitution; Donc on procède comme suit:"
   ]
  },
  {
   "cell_type": "code",
   "execution_count": 30,
   "metadata": {},
   "outputs": [
    {
     "data": {
      "text/plain": [
       "Gare\n",
       "Bellegarde         64.265130\n",
       "Dieppe             62.376238\n",
       "Bourg-en-Bresse    62.119205\n",
       "dtype: float64"
      ]
     },
     "execution_count": 30,
     "metadata": {},
     "output_type": "execute_result"
    }
   ],
   "source": [
    "# On groupe par gare\n",
    "df = df_trouves.groupby(\"Gare\").count()\n",
    "\n",
    "# On fait le rapport entre la colonne date de restitution et date\n",
    "(df[\"Date et heure de restitution\"] / df[\"Date\"] *100).sort_values(ascending=False).head(3)"
   ]
  },
  {
   "cell_type": "markdown",
   "metadata": {},
   "source": [
    "# 8.a. Calculer le volume d’objets déclarés perdus par gare"
   ]
  },
  {
   "cell_type": "code",
   "execution_count": 31,
   "metadata": {},
   "outputs": [
    {
     "data": {
      "text/html": [
       "<div>\n",
       "<style scoped>\n",
       "    .dataframe tbody tr th:only-of-type {\n",
       "        vertical-align: middle;\n",
       "    }\n",
       "\n",
       "    .dataframe tbody tr th {\n",
       "        vertical-align: top;\n",
       "    }\n",
       "\n",
       "    .dataframe thead th {\n",
       "        text-align: right;\n",
       "    }\n",
       "</style>\n",
       "<table border=\"1\" class=\"dataframe\">\n",
       "  <thead>\n",
       "    <tr style=\"text-align: right;\">\n",
       "      <th></th>\n",
       "      <th>Gare</th>\n",
       "      <th>Volume d'objets déclarés perdus</th>\n",
       "    </tr>\n",
       "  </thead>\n",
       "  <tbody>\n",
       "    <tr>\n",
       "      <th>0</th>\n",
       "      <td>Paris Gare de Lyon</td>\n",
       "      <td>45961</td>\n",
       "    </tr>\n",
       "    <tr>\n",
       "      <th>1</th>\n",
       "      <td>Paris Montparnasse</td>\n",
       "      <td>39101</td>\n",
       "    </tr>\n",
       "    <tr>\n",
       "      <th>2</th>\n",
       "      <td>Paris Gare du Nord</td>\n",
       "      <td>29430</td>\n",
       "    </tr>\n",
       "    <tr>\n",
       "      <th>3</th>\n",
       "      <td>Paris Saint-Lazare</td>\n",
       "      <td>29289</td>\n",
       "    </tr>\n",
       "    <tr>\n",
       "      <th>4</th>\n",
       "      <td>Strasbourg</td>\n",
       "      <td>18663</td>\n",
       "    </tr>\n",
       "    <tr>\n",
       "      <th>...</th>\n",
       "      <td>...</td>\n",
       "      <td>...</td>\n",
       "    </tr>\n",
       "    <tr>\n",
       "      <th>178</th>\n",
       "      <td>Paris Gare de Lyon Hall 1 &amp; 2</td>\n",
       "      <td>9</td>\n",
       "    </tr>\n",
       "    <tr>\n",
       "      <th>179</th>\n",
       "      <td>Paris Montparnasse Hall 1 &amp; 2</td>\n",
       "      <td>7</td>\n",
       "    </tr>\n",
       "    <tr>\n",
       "      <th>180</th>\n",
       "      <td>Argenteuil</td>\n",
       "      <td>6</td>\n",
       "    </tr>\n",
       "    <tr>\n",
       "      <th>181</th>\n",
       "      <td>Bar-le-Duc</td>\n",
       "      <td>2</td>\n",
       "    </tr>\n",
       "    <tr>\n",
       "      <th>182</th>\n",
       "      <td>Nîmes Pont-du-Gard</td>\n",
       "      <td>1</td>\n",
       "    </tr>\n",
       "  </tbody>\n",
       "</table>\n",
       "<p>183 rows × 2 columns</p>\n",
       "</div>"
      ],
      "text/plain": [
       "                              Gare  Volume d'objets déclarés perdus\n",
       "0               Paris Gare de Lyon                            45961\n",
       "1               Paris Montparnasse                            39101\n",
       "2               Paris Gare du Nord                            29430\n",
       "3               Paris Saint-Lazare                            29289\n",
       "4                       Strasbourg                            18663\n",
       "..                             ...                              ...\n",
       "178  Paris Gare de Lyon Hall 1 & 2                                9\n",
       "179  Paris Montparnasse Hall 1 & 2                                7\n",
       "180                     Argenteuil                                6\n",
       "181                     Bar-le-Duc                                2\n",
       "182             Nîmes Pont-du-Gard                                1\n",
       "\n",
       "[183 rows x 2 columns]"
      ]
     },
     "execution_count": 31,
     "metadata": {},
     "output_type": "execute_result"
    }
   ],
   "source": [
    "# On compte pour chaque gare le nombre de fois où il apparait dans le dataframe\n",
    "df_volume = df_perdus[\"Gare\"].value_counts().reset_index()\n",
    "df_volume.columns = [\"Gare\", \"Volume d'objets déclarés perdus\"]\n",
    "df_volume"
   ]
  },
  {
   "cell_type": "markdown",
   "metadata": {},
   "source": [
    "# 8.b. Associer à chaque gare une position GPS pour pouvoir l’afficher sur la carte"
   ]
  },
  {
   "cell_type": "markdown",
   "metadata": {},
   "source": [
    "* La méthode commenté dans la cellule en-dessous est une méthode avec geopy pour avoir la latitude et la\n",
    "longitude associé à chaque gars. Mais je me suis rendu compte que cela prend trop de temps avant de s'exécuter. Alors\n",
    "j'ai décidé de télécharger la base Gare de Voyageurs qui est sur le site de la SNCF pour effectuer une jointure et obtenir la latitude et la longitude de façon plus optimale. J'ai exposé cette méthode à la suite."
   ]
  },
  {
   "cell_type": "code",
   "execution_count": 32,
   "metadata": {},
   "outputs": [],
   "source": [
    "# On concatène le mot Gare à tous les nom de gare qui ne contient par Gare\n",
    "    # df_volume[\"Gare\"] = df_volume[\"Gare\"].apply(lambda x: x if \"Gare\" in x else \"Gare \"+ x)\n",
    "# Utilisation de l'Api de geopy pour rechercher les coordonnées de chaque gare\n",
    "    # loc = Nominatim(user_agent=\"GetLoc\") \n",
    "    # df_volume[\"Coordonnées\"] = (df_volume[\"Gare\"].apply(loc.geocode))\n",
    "    # df_volume[\"Latitude\"] = df_volume[\"Coordonnées\"].apply(lambda x: (x.latitude) if x is not None else x)\n",
    "    # df_volume[\"Longitude\"] = df_volume[\"Coordonnées\"].apply(lambda x: (x.longitude) if x is not None else x)"
   ]
  },
  {
   "cell_type": "markdown",
   "metadata": {},
   "source": [
    "* La nouvelle méthode consiste à créer une dataframe avec la liste des gares et leurs llatitude et longitude qu'on utilisera dans les questions suivantes"
   ]
  },
  {
   "cell_type": "code",
   "execution_count": 33,
   "metadata": {},
   "outputs": [],
   "source": [
    "# On importe la base Gare de voyageurs\n",
    "location = pd.read_csv('referentiel-gares-voyageurs.csv', sep=\";\") "
   ]
  },
  {
   "cell_type": "code",
   "execution_count": 34,
   "metadata": {},
   "outputs": [],
   "source": [
    "# On crée un dataframe qui est la jointure entre la base d'objets déclarés perdus et location\n",
    "df = df_perdus.merge(location, left_on=\"Code UIC\", right_on=\"Code UIC\")\n",
    "\n",
    "# On récupère ensuite les 3 colonnes qui nous intèresse en supprimant les doublons et les nan\n",
    "df_location = df[[\"Gare_x\",\"Latitude\",\"Longitude\"]].drop_duplicates().dropna(subset=[\"Gare_x\"])"
   ]
  },
  {
   "cell_type": "markdown",
   "metadata": {},
   "source": [
    "* Pour générer notre carte, nous allons effectuer une jointure entre df_volume et df_location\n",
    "pour assoicier à chaque gars, le volume d'objets perdus, la latitude et longitude"
   ]
  },
  {
   "cell_type": "code",
   "execution_count": 35,
   "metadata": {},
   "outputs": [
    {
     "data": {
      "text/html": [
       "<div>\n",
       "<style scoped>\n",
       "    .dataframe tbody tr th:only-of-type {\n",
       "        vertical-align: middle;\n",
       "    }\n",
       "\n",
       "    .dataframe tbody tr th {\n",
       "        vertical-align: top;\n",
       "    }\n",
       "\n",
       "    .dataframe thead th {\n",
       "        text-align: right;\n",
       "    }\n",
       "</style>\n",
       "<table border=\"1\" class=\"dataframe\">\n",
       "  <thead>\n",
       "    <tr style=\"text-align: right;\">\n",
       "      <th></th>\n",
       "      <th>Gare</th>\n",
       "      <th>Volume d'objets déclarés perdus</th>\n",
       "      <th>Gare_x</th>\n",
       "      <th>Latitude</th>\n",
       "      <th>Longitude</th>\n",
       "    </tr>\n",
       "  </thead>\n",
       "  <tbody>\n",
       "    <tr>\n",
       "      <th>0</th>\n",
       "      <td>Paris Gare de Lyon</td>\n",
       "      <td>45961</td>\n",
       "      <td>Paris Gare de Lyon</td>\n",
       "      <td>48.844888</td>\n",
       "      <td>2.373520</td>\n",
       "    </tr>\n",
       "    <tr>\n",
       "      <th>1</th>\n",
       "      <td>Paris Montparnasse</td>\n",
       "      <td>39101</td>\n",
       "      <td>Paris Montparnasse</td>\n",
       "      <td>48.841172</td>\n",
       "      <td>2.320514</td>\n",
       "    </tr>\n",
       "  </tbody>\n",
       "</table>\n",
       "</div>"
      ],
      "text/plain": [
       "                 Gare  Volume d'objets déclarés perdus              Gare_x  \\\n",
       "0  Paris Gare de Lyon                            45961  Paris Gare de Lyon   \n",
       "1  Paris Montparnasse                            39101  Paris Montparnasse   \n",
       "\n",
       "    Latitude  Longitude  \n",
       "0  48.844888   2.373520  \n",
       "1  48.841172   2.320514  "
      ]
     },
     "execution_count": 35,
     "metadata": {},
     "output_type": "execute_result"
    }
   ],
   "source": [
    "df_volume = df_volume.merge(df_location, right_on=\"Gare_x\", left_on=\"Gare\")\n",
    "df_volume.head(2)"
   ]
  },
  {
   "cell_type": "code",
   "execution_count": 36,
   "metadata": {},
   "outputs": [],
   "source": [
    "import folium\n",
    "mapcarte = folium.Map(location=[46.227638, 2.213749],zoom_start=6)\n",
    "#df_volume.apply(lambda x: folium.Marker([df_volume[\"Coordonnées\"]]).add_to(mapcarte))\n",
    "for ind,gare,lat,lon in df_volume[[\"Gare\",\"Latitude\",\"Longitude\"]][:175].itertuples():\n",
    "    folium.Marker([lat, lon], popup=gare,\n",
    "                  color='green',\n",
    "                  icon=folium.Icon(color='green'),\n",
    "                ).add_to(mapcarte)   \n",
    "mapcarte.save('output1.html')"
   ]
  },
  {
   "cell_type": "markdown",
   "metadata": {},
   "source": [
    "# 8.c. Afficher la donnée sur la carte"
   ]
  },
  {
   "cell_type": "code",
   "execution_count": 37,
   "metadata": {},
   "outputs": [],
   "source": [
    "mapObj = folium.Map(location=[46.227638, 2.213749],zoom_start=6)\n",
    "\n",
    "for ind,gare, vol,lat,lon in df_volume[[\"Gare\", \"Volume d'objets déclarés perdus\", \"Latitude\",\"Longitude\"]][:].itertuples():\n",
    "    folium.Circle(location=[lat, lon],\n",
    "                  radius=vol,\n",
    "                  weight=2,\n",
    "                  color='green',\n",
    "                  fill_color='red',\n",
    "                  tooltip=\"Click me!\",\n",
    "                  popup=(\"<h4  style='color:#0023F5;'><b>\" + str(gare) \n",
    "                         +\"</h4></b>\" +\"\\n\"+\" <b>Volume Perdus : </b>\"+ str(vol)\n",
    "                         )\n",
    "                  ).add_to(mapObj)\n",
    "mapObj.save('output2.html')"
   ]
  },
  {
   "cell_type": "markdown",
   "metadata": {},
   "source": [
    "# 8.D Bonus — Ajouter un sélecteur de “type d’objets” pour avoir une carte par catégorie"
   ]
  },
  {
   "cell_type": "code",
   "execution_count": 38,
   "metadata": {},
   "outputs": [
    {
     "data": {
      "text/html": [
       "<div>\n",
       "<style scoped>\n",
       "    .dataframe tbody tr th:only-of-type {\n",
       "        vertical-align: middle;\n",
       "    }\n",
       "\n",
       "    .dataframe tbody tr th {\n",
       "        vertical-align: top;\n",
       "    }\n",
       "\n",
       "    .dataframe thead th {\n",
       "        text-align: right;\n",
       "    }\n",
       "</style>\n",
       "<table border=\"1\" class=\"dataframe\">\n",
       "  <thead>\n",
       "    <tr style=\"text-align: right;\">\n",
       "      <th></th>\n",
       "      <th>Gare</th>\n",
       "      <th>Type d'objets</th>\n",
       "      <th>Count</th>\n",
       "    </tr>\n",
       "  </thead>\n",
       "  <tbody>\n",
       "    <tr>\n",
       "      <th>0</th>\n",
       "      <td>Abbeville</td>\n",
       "      <td>Appareils électroniques, informatiques, appare...</td>\n",
       "      <td>4</td>\n",
       "    </tr>\n",
       "    <tr>\n",
       "      <th>1</th>\n",
       "      <td>Abbeville</td>\n",
       "      <td>Bagagerie: sacs, valises, cartables</td>\n",
       "      <td>16</td>\n",
       "    </tr>\n",
       "  </tbody>\n",
       "</table>\n",
       "</div>"
      ],
      "text/plain": [
       "        Gare                                      Type d'objets  Count\n",
       "0  Abbeville  Appareils électroniques, informatiques, appare...      4\n",
       "1  Abbeville                Bagagerie: sacs, valises, cartables     16"
      ]
     },
     "execution_count": 38,
     "metadata": {},
     "output_type": "execute_result"
    }
   ],
   "source": [
    "# On fait un regrouper par gare et par type d'objet\n",
    "df_selecteur = df_perdus.groupby([\"Gare\", \"Type d'objets\"]).size().reset_index(name=\"Count\")\n",
    "df_selecteur.head(2)"
   ]
  },
  {
   "cell_type": "code",
   "execution_count": 39,
   "metadata": {},
   "outputs": [],
   "source": [
    "# On fait une jointure avec notre dataframe location pour avoir les coordonnées de chaque gare\n",
    "df_selecteur = df_selecteur.merge(df_location, left_on=\"Gare\", right_on=\"Gare_x\")"
   ]
  },
  {
   "cell_type": "code",
   "execution_count": 40,
   "metadata": {},
   "outputs": [],
   "source": [
    "from os import name\n",
    "mapCart = folium.Map(location=[46.227638, 2.213749],zoom_start=6)\n",
    "\n",
    "# On crée un vecteur contenant les différents types d'objet déclarés perdus\n",
    "typeObjets= df_selecteur[\"Type d'objets\"].drop_duplicates()\n",
    "\n",
    "# On crée une liste de couleur pour distinguer les couleurs des selecteurs\n",
    "colors = [\"#EB3324\", \"#3A0603\", \"#000C7B\", \"#F08036\", \"#7E84F7\", \"#732BF5\", \"#00023D\", \"#58135E\",\n",
    "          \"#75F94D\", \"#EE8AF8\", \"#EA3FF7\", \"#EA3680\", \"#377D22\", \"#367E7F\", \"#39107B\", \"#DE5F0B\"] \n",
    "\n",
    "# indice de choix des couleurs\n",
    "i=0\n",
    "for typeObjet in typeObjets:\n",
    "    # On applique un filtre sur le dataframe en fonction du type d'objets en cours\n",
    "    df_filtre = df_selecteur[df_selecteur[\"Type d'objets\"] == typeObjet]\n",
    "    # On crée un layer pour le type d'objet en cours\n",
    "    shapesLayer = folium.FeatureGroup(name=typeObjet).add_to(mapCart)\n",
    "    \n",
    "    #On fait une boucle qui permet de créer la couche de marqueur pour l'objet en cours\n",
    "    for ind,gare,vol,lat,lon in df_filtre[[\"Gare\", \"Count\", \"Latitude\",\"Longitude\"]][:].itertuples():\n",
    "        folium.Circle(location=[lat, lon],\n",
    "                    radius=vol,\n",
    "                    weight=2,\n",
    "                    color=colors[i],\n",
    "                    fill_color='red',\n",
    "                    tooltip=\"Click me!\",\n",
    "                    popup=(\"<h4  style='color:#377D22;'><b>Type d\\'objets: </h4></b> : \"+ str(typeObjet)+\n",
    "                           \"<h4  style='color:#0023F5;'><b>\" + str(gare) +\"</h4></b>\" \n",
    "                           +\"\\n\"+\" <b>Volume Perdus : </b>\"+ str(vol)\n",
    "                            )\n",
    "                    ).add_to(shapesLayer)\n",
    "    i=i+1\n",
    "folium.LayerControl().add_to(mapCart)\n",
    "\n",
    "mapCart.save('output3.html')"
   ]
  },
  {
   "cell_type": "markdown",
   "metadata": {},
   "source": [
    "# 9. Question libre. Faire un graphique pour montrer le type d'objet le plus perdus"
   ]
  },
  {
   "cell_type": "code",
   "execution_count": 41,
   "metadata": {},
   "outputs": [],
   "source": [
    "df = df_perdus.groupby(\"Type d'objets\").size().reset_index(name=\"Count\")"
   ]
  },
  {
   "cell_type": "code",
   "execution_count": 42,
   "metadata": {},
   "outputs": [
    {
     "data": {
      "text/plain": [
       "<AxesSubplot:xlabel=\"Type d'objets\">"
      ]
     },
     "execution_count": 42,
     "metadata": {},
     "output_type": "execute_result"
    },
    {
     "data": {
      "image/png": "[encoded data removed]",
      "text/plain": [
       "<Figure size 864x432 with 1 Axes>"
      ]
     },
     "metadata": {
      "needs_background": "light"
     },
     "output_type": "display_data"
    }
   ],
   "source": [
    "df.plot(x=\"Type d'objets\", y=\"Count\", kind=\"bar\", figsize=(12, 6), color=\"green\")"
   ]
  },
  {
   "cell_type": "markdown",
   "metadata": {},
   "source": [
    "# 10. Créer un modèle de machine learning qui pourra prédire le nombre d’objets perdus en 2022. "
   ]
  },
  {
   "cell_type": "code",
   "execution_count": 43,
   "metadata": {},
   "outputs": [],
   "source": [
    "# On regroupe les données par année\n",
    "df_learn = df_perdus.groupby([\"Year\"]).size().reset_index(name=\"ObjetPerdus\")\n"
   ]
  },
  {
   "cell_type": "code",
   "execution_count": 44,
   "metadata": {},
   "outputs": [
    {
     "name": "stdout",
     "output_type": "stream",
     "text": [
      "[10988.25] -22016468.694444448\n"
     ]
    }
   ],
   "source": [
    "from sklearn import linear_model\n",
    "\n",
    "regr = linear_model.LinearRegression()\n",
    "\n",
    "# On supprime la ligne de 2022\n",
    "df_learn.drop(df_learn[df_learn[\"Year\"] == 2022].index, inplace=True)\n",
    "\n",
    "# On cherche à prédire le nombre d'objet perdus en 2022\n",
    "regr.fit(df_learn[[\"Year\"]], df_learn[\"ObjetPerdus\"])\n",
    "\n",
    "print(regr.coef_, regr.intercept_)\n"
   ]
  },
  {
   "cell_type": "code",
   "execution_count": 47,
   "metadata": {},
   "outputs": [
    {
     "data": {
      "text/plain": [
       "array([201772.80555556])"
      ]
     },
     "execution_count": 47,
     "metadata": {},
     "output_type": "execute_result"
    }
   ],
   "source": [
    "# On prédit la valeur de 2022\n",
    "texte =regr.predict([[2022]])\n",
    "regr.predict([[2022]])"
   ]
  },
  {
   "cell_type": "markdown",
   "metadata": {},
   "source": [
    "11. Bonus — Produire une image PNG au format 2000 x 2000 qui affiche les résultats à toutes les questions précédentes."
   ]
  }
 ],
 "metadata": {
  "interpreter": {
   "hash": "1bcc7eb7d82ba66cad71ed5950d7878c37e68c897fa254ca7ba72097c9ad6787"
  },
  "kernelspec": {
   "display_name": "Python 3.9.7 64-bit ('base': conda)",
   "language": "python",
   "name": "python3"
  },
  "language_info": {
   "codemirror_mode": {
    "name": "ipython",
    "version": 3
   },
   "file_extension": ".py",
   "mimetype": "text/x-python",
   "name": "python",
   "nbconvert_exporter": "python",
   "pygments_lexer": "ipython3",
   "version": "3.9.7"
  },
  "orig_nbformat": 4
 },
 "nbformat": 4,
 "nbformat_minor": 2
}
